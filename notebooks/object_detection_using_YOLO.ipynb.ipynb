{
 "cells": [
  {
   "cell_type": "markdown",
   "id": "3b291dae",
   "metadata": {},
   "source": [
    "\n",
    "## YOLOv5 Object Detection \n"
   ]
  },
  {
   "cell_type": "code",
   "execution_count": 1,
   "id": "311af8eb",
   "metadata": {},
   "outputs": [
    {
     "name": "stdout",
     "output_type": "stream",
     "text": [
      "Collecting opencv-python\n",
      "  Downloading opencv_python-4.12.0.88-cp37-abi3-win_amd64.whl (39.0 MB)\n",
      "     ---------------------------------------- 39.0/39.0 MB 4.2 MB/s eta 0:00:00\n",
      "Requirement already satisfied: numpy<2.3.0,>=2 in c:\\users\\surap\\onedrive\\desktop\\10acadamy\\ethiopian medical businesses\\myenv\\lib\\site-packages (from opencv-python) (2.2.6)\n",
      "Installing collected packages: opencv-python\n",
      "Successfully installed opencv-python-4.12.0.88\n"
     ]
    },
    {
     "name": "stderr",
     "output_type": "stream",
     "text": [
      "\n",
      "[notice] A new release of pip available: 22.2.1 -> 25.1.1\n",
      "[notice] To update, run: python.exe -m pip install --upgrade pip\n"
     ]
    },
    {
     "name": "stdout",
     "output_type": "stream",
     "text": [
      "Collecting torch\n",
      "  Using cached torch-2.7.1-cp310-cp310-win_amd64.whl (216.1 MB)\n",
      "Collecting torchvision\n",
      "  Downloading torchvision-0.22.1-cp310-cp310-win_amd64.whl (1.7 MB)\n",
      "     ---------------------------------------- 1.7/1.7 MB 2.4 MB/s eta 0:00:00\n",
      "Collecting filelock\n",
      "  Using cached filelock-3.18.0-py3-none-any.whl (16 kB)\n",
      "Collecting jinja2\n",
      "  Using cached jinja2-3.1.6-py3-none-any.whl (134 kB)\n",
      "Collecting fsspec\n",
      "  Downloading fsspec-2025.7.0-py3-none-any.whl (199 kB)\n",
      "     ------------------------------------- 199.6/199.6 kB 11.8 MB/s eta 0:00:00\n",
      "Collecting networkx\n",
      "  Using cached networkx-3.4.2-py3-none-any.whl (1.7 MB)\n",
      "Requirement already satisfied: typing-extensions>=4.10.0 in c:\\users\\surap\\onedrive\\desktop\\10acadamy\\ethiopian medical businesses\\myenv\\lib\\site-packages (from torch) (4.14.1)\n",
      "Collecting sympy>=1.13.3\n",
      "  Using cached sympy-1.14.0-py3-none-any.whl (6.3 MB)\n",
      "Collecting pillow!=8.3.*,>=5.3.0\n",
      "  Using cached pillow-11.3.0-cp310-cp310-win_amd64.whl (7.0 MB)\n",
      "Requirement already satisfied: numpy in c:\\users\\surap\\onedrive\\desktop\\10acadamy\\ethiopian medical businesses\\myenv\\lib\\site-packages (from torchvision) (2.2.6)\n",
      "Collecting mpmath<1.4,>=1.1.0\n",
      "  Using cached mpmath-1.3.0-py3-none-any.whl (536 kB)\n",
      "Collecting MarkupSafe>=2.0\n",
      "  Using cached MarkupSafe-3.0.2-cp310-cp310-win_amd64.whl (15 kB)\n",
      "Installing collected packages: mpmath, sympy, pillow, networkx, MarkupSafe, fsspec, filelock, jinja2, torch, torchvision\n",
      "Successfully installed MarkupSafe-3.0.2 filelock-3.18.0 fsspec-2025.7.0 jinja2-3.1.6 mpmath-1.3.0 networkx-3.4.2 pillow-11.3.0 sympy-1.14.0 torch-2.7.1 torchvision-0.22.1\n"
     ]
    },
    {
     "name": "stderr",
     "output_type": "stream",
     "text": [
      "\n",
      "[notice] A new release of pip available: 22.2.1 -> 25.1.1\n",
      "[notice] To update, run: python.exe -m pip install --upgrade pip\n"
     ]
    },
    {
     "name": "stdout",
     "output_type": "stream",
     "text": [
      "Collecting tensorflow\n",
      "  Downloading tensorflow-2.19.0-cp310-cp310-win_amd64.whl (375.7 MB)\n",
      "     -------------------------------------- 375.7/375.7 MB 1.9 MB/s eta 0:00:00\n",
      "Requirement already satisfied: setuptools in c:\\users\\surap\\onedrive\\desktop\\10acadamy\\ethiopian medical businesses\\myenv\\lib\\site-packages (from tensorflow) (63.2.0)\n",
      "Collecting tensorboard~=2.19.0\n",
      "  Downloading tensorboard-2.19.0-py3-none-any.whl (5.5 MB)\n",
      "     ---------------------------------------- 5.5/5.5 MB 3.6 MB/s eta 0:00:00\n",
      "Collecting absl-py>=1.0.0\n",
      "  Downloading absl_py-2.3.1-py3-none-any.whl (135 kB)\n",
      "     -------------------------------------- 135.8/135.8 kB 3.9 MB/s eta 0:00:00\n",
      "Collecting grpcio<2.0,>=1.24.3\n",
      "  Downloading grpcio-1.73.1-cp310-cp310-win_amd64.whl (4.3 MB)\n",
      "     ---------------------------------------- 4.3/4.3 MB 4.2 MB/s eta 0:00:00\n",
      "Collecting opt-einsum>=2.3.2\n",
      "  Downloading opt_einsum-3.4.0-py3-none-any.whl (71 kB)\n",
      "     ---------------------------------------- 71.9/71.9 kB 3.9 MB/s eta 0:00:00\n",
      "Collecting wrapt>=1.11.0\n",
      "  Downloading wrapt-1.17.2-cp310-cp310-win_amd64.whl (38 kB)\n",
      "Requirement already satisfied: typing-extensions>=3.6.6 in c:\\users\\surap\\onedrive\\desktop\\10acadamy\\ethiopian medical businesses\\myenv\\lib\\site-packages (from tensorflow) (4.14.1)\n",
      "Collecting ml-dtypes<1.0.0,>=0.5.1\n",
      "  Downloading ml_dtypes-0.5.1-cp310-cp310-win_amd64.whl (209 kB)\n",
      "     -------------------------------------- 209.7/209.7 kB 6.4 MB/s eta 0:00:00\n",
      "Collecting tensorflow-io-gcs-filesystem>=0.23.1\n",
      "  Downloading tensorflow_io_gcs_filesystem-0.31.0-cp310-cp310-win_amd64.whl (1.5 MB)\n",
      "     ---------------------------------------- 1.5/1.5 MB 3.4 MB/s eta 0:00:00\n",
      "Collecting h5py>=3.11.0\n",
      "  Downloading h5py-3.14.0-cp310-cp310-win_amd64.whl (2.9 MB)\n",
      "     ---------------------------------------- 2.9/2.9 MB 4.7 MB/s eta 0:00:00\n",
      "Collecting astunparse>=1.6.0\n",
      "  Downloading astunparse-1.6.3-py2.py3-none-any.whl (12 kB)\n",
      "Collecting flatbuffers>=24.3.25\n",
      "  Downloading flatbuffers-25.2.10-py2.py3-none-any.whl (30 kB)\n",
      "Collecting termcolor>=1.1.0\n",
      "  Downloading termcolor-3.1.0-py3-none-any.whl (7.7 kB)\n",
      "Requirement already satisfied: six>=1.12.0 in c:\\users\\surap\\onedrive\\desktop\\10acadamy\\ethiopian medical businesses\\myenv\\lib\\site-packages (from tensorflow) (1.17.0)\n",
      "Collecting numpy<2.2.0,>=1.26.0\n",
      "  Downloading numpy-2.1.3-cp310-cp310-win_amd64.whl (12.9 MB)\n",
      "     ---------------------------------------- 12.9/12.9 MB 4.5 MB/s eta 0:00:00\n",
      "Collecting libclang>=13.0.0\n",
      "  Downloading libclang-18.1.1-py2.py3-none-win_amd64.whl (26.4 MB)\n",
      "     ---------------------------------------- 26.4/26.4 MB 6.4 MB/s eta 0:00:00\n",
      "Collecting google-pasta>=0.1.1\n",
      "  Downloading google_pasta-0.2.0-py3-none-any.whl (57 kB)\n",
      "     ---------------------------------------- 57.5/57.5 kB 3.1 MB/s eta 0:00:00\n",
      "Collecting gast!=0.5.0,!=0.5.1,!=0.5.2,>=0.2.1\n",
      "  Downloading gast-0.6.0-py3-none-any.whl (21 kB)\n",
      "Collecting keras>=3.5.0\n",
      "  Downloading keras-3.10.0-py3-none-any.whl (1.4 MB)\n",
      "     ---------------------------------------- 1.4/1.4 MB 4.6 MB/s eta 0:00:00\n",
      "Requirement already satisfied: packaging in c:\\users\\surap\\onedrive\\desktop\\10acadamy\\ethiopian medical businesses\\myenv\\lib\\site-packages (from tensorflow) (25.0)\n",
      "Collecting requests<3,>=2.21.0\n",
      "  Using cached requests-2.32.4-py3-none-any.whl (64 kB)\n",
      "Collecting protobuf!=4.21.0,!=4.21.1,!=4.21.2,!=4.21.3,!=4.21.4,!=4.21.5,<6.0.0dev,>=3.20.3\n",
      "  Downloading protobuf-5.29.5-cp310-abi3-win_amd64.whl (434 kB)\n",
      "     ------------------------------------- 434.8/434.8 kB 13.7 MB/s eta 0:00:00\n",
      "Collecting wheel<1.0,>=0.23.0\n",
      "  Using cached wheel-0.45.1-py3-none-any.whl (72 kB)\n",
      "Collecting namex\n",
      "  Downloading namex-0.1.0-py3-none-any.whl (5.9 kB)\n",
      "Collecting rich\n",
      "  Using cached rich-14.0.0-py3-none-any.whl (243 kB)\n",
      "Collecting optree\n",
      "  Downloading optree-0.16.0-cp310-cp310-win_amd64.whl (304 kB)\n",
      "     -------------------------------------- 304.8/304.8 kB 9.5 MB/s eta 0:00:00\n",
      "Collecting idna<4,>=2.5\n",
      "  Using cached idna-3.10-py3-none-any.whl (70 kB)\n",
      "Collecting certifi>=2017.4.17\n",
      "  Downloading certifi-2025.7.14-py3-none-any.whl (162 kB)\n",
      "     ------------------------------------- 162.7/162.7 kB 10.2 MB/s eta 0:00:00\n",
      "Collecting urllib3<3,>=1.21.1\n",
      "  Using cached urllib3-2.5.0-py3-none-any.whl (129 kB)\n",
      "Collecting charset_normalizer<4,>=2\n",
      "  Using cached charset_normalizer-3.4.2-cp310-cp310-win_amd64.whl (105 kB)\n",
      "Collecting werkzeug>=1.0.1\n",
      "  Using cached werkzeug-3.1.3-py3-none-any.whl (224 kB)\n",
      "Collecting tensorboard-data-server<0.8.0,>=0.7.0\n",
      "  Downloading tensorboard_data_server-0.7.2-py3-none-any.whl (2.4 kB)\n",
      "Collecting markdown>=2.6.8\n",
      "  Downloading markdown-3.8.2-py3-none-any.whl (106 kB)\n",
      "     -------------------------------------- 106.8/106.8 kB 6.0 MB/s eta 0:00:00\n",
      "Requirement already satisfied: MarkupSafe>=2.1.1 in c:\\users\\surap\\onedrive\\desktop\\10acadamy\\ethiopian medical businesses\\myenv\\lib\\site-packages (from werkzeug>=1.0.1->tensorboard~=2.19.0->tensorflow) (3.0.2)\n",
      "Requirement already satisfied: pygments<3.0.0,>=2.13.0 in c:\\users\\surap\\onedrive\\desktop\\10acadamy\\ethiopian medical businesses\\myenv\\lib\\site-packages (from rich->keras>=3.5.0->tensorflow) (2.19.2)\n",
      "Collecting markdown-it-py>=2.2.0\n",
      "  Using cached markdown_it_py-3.0.0-py3-none-any.whl (87 kB)\n",
      "Collecting mdurl~=0.1\n",
      "  Using cached mdurl-0.1.2-py3-none-any.whl (10.0 kB)\n",
      "Installing collected packages: namex, libclang, flatbuffers, wrapt, wheel, werkzeug, urllib3, termcolor, tensorflow-io-gcs-filesystem, tensorboard-data-server, protobuf, optree, opt-einsum, numpy, mdurl, markdown, idna, grpcio, google-pasta, gast, charset_normalizer, certifi, absl-py, tensorboard, requests, ml-dtypes, markdown-it-py, h5py, astunparse, rich, keras, tensorflow\n",
      "  Attempting uninstall: numpy\n",
      "    Found existing installation: numpy 2.2.6\n",
      "    Uninstalling numpy-2.2.6:\n",
      "      Successfully uninstalled numpy-2.2.6\n",
      "Successfully installed absl-py-2.3.1 astunparse-1.6.3 certifi-2025.7.14 charset_normalizer-3.4.2 flatbuffers-25.2.10 gast-0.6.0 google-pasta-0.2.0 grpcio-1.73.1 h5py-3.14.0 idna-3.10 keras-3.10.0 libclang-18.1.1 markdown-3.8.2 markdown-it-py-3.0.0 mdurl-0.1.2 ml-dtypes-0.5.1 namex-0.1.0 numpy-2.1.3 opt-einsum-3.4.0 optree-0.16.0 protobuf-5.29.5 requests-2.32.4 rich-14.0.0 tensorboard-2.19.0 tensorboard-data-server-0.7.2 tensorflow-2.19.0 tensorflow-io-gcs-filesystem-0.31.0 termcolor-3.1.0 urllib3-2.5.0 werkzeug-3.1.3 wheel-0.45.1 wrapt-1.17.2\n"
     ]
    },
    {
     "name": "stderr",
     "output_type": "stream",
     "text": [
      "\n",
      "[notice] A new release of pip available: 22.2.1 -> 25.1.1\n",
      "[notice] To update, run: python.exe -m pip install --upgrade pip\n"
     ]
    }
   ],
   "source": [
    "!pip install opencv-python\n",
    "!pip install torch torchvision  \n",
    "!pip install tensorflow  "
   ]
  },
  {
   "cell_type": "code",
   "execution_count": 2,
   "id": "fd7c58d2",
   "metadata": {},
   "outputs": [
    {
     "name": "stdout",
     "output_type": "stream",
     "text": [
      "2025-07-16 08:49:40,814 - INFO - ✅ Logging setup complete.\n"
     ]
    }
   ],
   "source": [
    "import logging\n",
    "import os\n",
    "import sys\n",
    "# Ensure logs folder exists\n",
    "os.makedirs(\"../logs\", exist_ok=True)\n",
    "\n",
    "# Configure logging to write to file & display in Jupyter Notebook\n",
    "logging.basicConfig(\n",
    "    level=logging.INFO,\n",
    "    format=\"%(asctime)s - %(levelname)s - %(message)s\",\n",
    "    handlers=[\n",
    "        logging.FileHandler(\"../logs/yolo_image_detection.log\", encoding='utf-8'),  \n",
    "        logging.StreamHandler(sys.stdout)  \n",
    "    ]\n",
    ")\n",
    "logging.info(\"✅ Logging setup complete.\")"
   ]
  },
  {
   "cell_type": "code",
   "execution_count": 3,
   "id": "5ed23725",
   "metadata": {},
   "outputs": [],
   "source": [
    "\n",
    "\n",
    "# Import libraries for file handling and data splitting\n",
    "import os\n",
    "import sys\n",
    "import random\n",
    "import shutil\n",
    "sys.path.append(os.path.abspath(os.path.join('..', 'scripts')))\n",
    "sys.path.append('../yolov5')  # Adjust the path based on your directory structure\n",
    "\n"
   ]
  },
  {
   "cell_type": "code",
   "execution_count": 4,
   "id": "ee25d059",
   "metadata": {},
   "outputs": [
    {
     "name": "stdout",
     "output_type": "stream",
     "text": [
      "Total images available: 64\n",
      "2025-07-16 08:50:46,965 - INFO - 64 total images available in ../data/images\n"
     ]
    }
   ],
   "source": [
    "\n",
    "\n",
    "# Define the directory paths\n",
    "image_dir = '../data/images'  # Directory containing all your images\n",
    "train_dir = '../data/train/images'  # Directory for training images\n",
    "val_dir = '../data/valid/images'  # Directory for validation images\n",
    "\n",
    "\n",
    "try:\n",
    "    # Create directories for train and validation sets if they don't exist\n",
    "    os.makedirs(train_dir, exist_ok=True)\n",
    "    os.makedirs(val_dir, exist_ok=True)\n",
    "    \n",
    "    # Print the number of images available\n",
    "    print(f\"Total images available: {len(os.listdir(image_dir))}\")\n",
    "    logging.info(f'{len(os.listdir(image_dir))} total images available in {image_dir}')\n",
    "except Exception as e:\n",
    "    logging.info(f'Error: {e}')\n",
    "\n"
   ]
  },
  {
   "cell_type": "code",
   "execution_count": 5,
   "id": "51a8c6c3",
   "metadata": {},
   "outputs": [
    {
     "name": "stdout",
     "output_type": "stream",
     "text": [
      "Training images: 51\n",
      "Validation images: 13\n",
      "2025-07-16 08:51:12,156 - INFO - ✅ Splited the dataset into train and validation sets.\n"
     ]
    }
   ],
   "source": [
    "def split_dataset(source_dir, train_dir, val_dir, split_ratio=0.8):\n",
    "    # List all images in the source directory\n",
    "    images = [f for f in os.listdir(source_dir) if f.endswith('.jpg')]\n",
    "    random.shuffle(images)  # Shuffle the images for random selection\n",
    "\n",
    "    # Calculate the split index\n",
    "    split_index = int(len(images) * split_ratio)\n",
    "    train_images = images[:split_index]\n",
    "    val_images = images[split_index:]\n",
    "\n",
    "    # Copy images to the respective directories\n",
    "    for image in train_images:\n",
    "        shutil.copy(os.path.join(source_dir, image), train_dir)\n",
    "    for image in val_images:\n",
    "        shutil.copy(os.path.join(source_dir, image), val_dir)\n",
    "    \n",
    "    print(f\"Training images: {len(train_images)}\")\n",
    "    print(f\"Validation images: {len(val_images)}\")\n",
    "\n",
    "\n",
    "if __name__=='__main__':\n",
    "    \n",
    "    try:\n",
    "        # Call the function to split the dataset\n",
    "        split_dataset(image_dir, train_dir, val_dir)\n",
    "        logging.info(f\"✅ Splited the dataset into train and validation sets.\")\n",
    "    except Exception as e:\n",
    "        logging.info(f'💥 Error: {e}')"
   ]
  },
  {
   "cell_type": "code",
   "execution_count": 6,
   "id": "a4298131",
   "metadata": {},
   "outputs": [],
   "source": [
    "# Define the content of the YAML file\n",
    "yaml_content = \"\"\"\n",
    "train: D:/KAIM/Ethiopian-Medical-Business-Data-Warehouse/data/train/images  # Specify the correct path to training images\n",
    "val: D:/KAIM/Ethiopian-Medical-Business-Data-Warehouse/data/valid/images    # Specify the correct path to validation images\n",
    "\n",
    "nc: 9  # Number of classes\n",
    "names: [\n",
    "  'cosmotic',\n",
    "  'food-package', \n",
    "  'supliment', \n",
    "  'formula-milk', \n",
    "  'lotion-moisturizer', \n",
    "  'medicine', \n",
    "  'mini-drop', \n",
    "  'pregnancy', \n",
    "  'other'\n",
    "]\n",
    "\"\"\""
   ]
  },
  {
   "cell_type": "code",
   "execution_count": 12,
   "id": "52de7a72",
   "metadata": {},
   "outputs": [
    {
     "name": "stdout",
     "output_type": "stream",
     "text": [
      "True\n",
      "True\n"
     ]
    }
   ],
   "source": [
    "\n",
    "\n",
    "import os\n",
    "# Write the content to a file\n",
    "with open(\"Ethiopian medical businesses.yml\", \"w\") as file:\n",
    "    file.write(yaml_content)\n",
    "\n",
    "# Verify the file was created\n",
    "print(os.path.exists(\"Ethiopian medical businesses.yml\"))  # Should return True\n",
    "\n",
    "# Check the existence of the image directory\n",
    "print(os.path.exists('C:\\\\Users\\\\surap\\\\OneDrive\\\\Desktop\\\\10Acadamy\\\\Ethiopian medical businesses\\\\data\\\\train\\\\images'))  # Should return True\n"
   ]
  },
  {
   "cell_type": "code",
   "execution_count": 2,
   "id": "97ef981d",
   "metadata": {},
   "outputs": [
    {
     "name": "stderr",
     "output_type": "stream",
     "text": [
      "\n",
      "[notice] A new release of pip available: 22.2.1 -> 25.1.1\n",
      "[notice] To update, run: python.exe -m pip install --upgrade pip\n"
     ]
    },
    {
     "name": "stdout",
     "output_type": "stream",
     "text": [
      "Collecting roboflow\n",
      "  Downloading roboflow-1.2.1-py3-none-any.whl (86 kB)\n",
      "     -------------------------------------- 86.9/86.9 kB 377.6 kB/s eta 0:00:00\n",
      "Collecting idna==3.7\n",
      "  Downloading idna-3.7-py3-none-any.whl (66 kB)\n",
      "     ---------------------------------------- 66.8/66.8 kB 1.8 MB/s eta 0:00:00\n",
      "Requirement already satisfied: six in c:\\users\\surap\\onedrive\\desktop\\10acadamy\\ethiopian medical businesses\\myenv\\lib\\site-packages (from roboflow) (1.17.0)\n",
      "Requirement already satisfied: python-dotenv in c:\\users\\surap\\onedrive\\desktop\\10acadamy\\ethiopian medical businesses\\myenv\\lib\\site-packages (from roboflow) (1.1.1)\n",
      "Collecting tqdm>=4.41.0\n",
      "  Using cached tqdm-4.67.1-py3-none-any.whl (78 kB)\n",
      "Requirement already satisfied: python-dateutil in c:\\users\\surap\\onedrive\\desktop\\10acadamy\\ethiopian medical businesses\\myenv\\lib\\site-packages (from roboflow) (2.9.0.post0)\n",
      "Collecting PyYAML>=5.3.1\n",
      "  Using cached PyYAML-6.0.2-cp310-cp310-win_amd64.whl (161 kB)\n",
      "Collecting pillow-heif<2\n",
      "  Downloading pillow_heif-1.0.0-cp310-cp310-win_amd64.whl (5.3 MB)\n",
      "     ---------------------------------------- 5.3/5.3 MB 1.8 MB/s eta 0:00:00\n",
      "Collecting matplotlib\n",
      "  Using cached matplotlib-3.10.3-cp310-cp310-win_amd64.whl (8.1 MB)\n",
      "Collecting requests-toolbelt\n",
      "  Using cached requests_toolbelt-1.0.0-py2.py3-none-any.whl (54 kB)\n",
      "Collecting opencv-python-headless==4.10.0.84\n",
      "  Downloading opencv_python_headless-4.10.0.84-cp37-abi3-win_amd64.whl (38.8 MB)\n",
      "     ---------------------------------------- 38.8/38.8 MB 3.0 MB/s eta 0:00:00\n",
      "Requirement already satisfied: requests in c:\\users\\surap\\onedrive\\desktop\\10acadamy\\ethiopian medical businesses\\myenv\\lib\\site-packages (from roboflow) (2.32.4)\n",
      "Requirement already satisfied: urllib3>=1.26.6 in c:\\users\\surap\\onedrive\\desktop\\10acadamy\\ethiopian medical businesses\\myenv\\lib\\site-packages (from roboflow) (2.5.0)\n",
      "Requirement already satisfied: certifi in c:\\users\\surap\\onedrive\\desktop\\10acadamy\\ethiopian medical businesses\\myenv\\lib\\site-packages (from roboflow) (2025.7.14)\n",
      "Requirement already satisfied: Pillow>=7.1.2 in c:\\users\\surap\\onedrive\\desktop\\10acadamy\\ethiopian medical businesses\\myenv\\lib\\site-packages (from roboflow) (11.3.0)\n",
      "Collecting pillow-avif-plugin<2\n",
      "  Downloading pillow_avif_plugin-1.5.2-cp310-cp310-win_amd64.whl (9.9 MB)\n",
      "     ---------------------------------------- 9.9/9.9 MB 3.7 MB/s eta 0:00:00\n",
      "Collecting filetype\n",
      "  Downloading filetype-1.2.0-py2.py3-none-any.whl (19 kB)\n",
      "Collecting kiwisolver>=1.3.1\n",
      "  Using cached kiwisolver-1.4.8-cp310-cp310-win_amd64.whl (71 kB)\n",
      "Collecting cycler\n",
      "  Using cached cycler-0.12.1-py3-none-any.whl (8.3 kB)\n",
      "Requirement already satisfied: numpy>=1.18.5 in c:\\users\\surap\\onedrive\\desktop\\10acadamy\\ethiopian medical businesses\\myenv\\lib\\site-packages (from roboflow) (2.1.3)\n",
      "Requirement already satisfied: colorama in c:\\users\\surap\\onedrive\\desktop\\10acadamy\\ethiopian medical businesses\\myenv\\lib\\site-packages (from tqdm>=4.41.0->roboflow) (0.4.6)\n",
      "Collecting fonttools>=4.22.0\n",
      "  Using cached fonttools-4.58.5-cp310-cp310-win_amd64.whl (2.2 MB)\n",
      "Collecting pyparsing>=2.3.1\n",
      "  Using cached pyparsing-3.2.3-py3-none-any.whl (111 kB)\n",
      "Collecting contourpy>=1.0.1\n",
      "  Using cached contourpy-1.3.2-cp310-cp310-win_amd64.whl (221 kB)\n",
      "Requirement already satisfied: packaging>=20.0 in c:\\users\\surap\\onedrive\\desktop\\10acadamy\\ethiopian medical businesses\\myenv\\lib\\site-packages (from matplotlib->roboflow) (25.0)\n",
      "Requirement already satisfied: charset_normalizer<4,>=2 in c:\\users\\surap\\onedrive\\desktop\\10acadamy\\ethiopian medical businesses\\myenv\\lib\\site-packages (from requests->roboflow) (3.4.2)\n",
      "Installing collected packages: pillow-avif-plugin, filetype, tqdm, PyYAML, pyparsing, pillow-heif, opencv-python-headless, kiwisolver, idna, fonttools, cycler, contourpy, matplotlib, requests-toolbelt, roboflow\n",
      "  Attempting uninstall: idna\n",
      "    Found existing installation: idna 3.10\n",
      "    Uninstalling idna-3.10:\n",
      "      Successfully uninstalled idna-3.10\n",
      "Successfully installed PyYAML-6.0.2 contourpy-1.3.2 cycler-0.12.1 filetype-1.2.0 fonttools-4.58.5 idna-3.7 kiwisolver-1.4.8 matplotlib-3.10.3 opencv-python-headless-4.10.0.84 pillow-avif-plugin-1.5.2 pillow-heif-1.0.0 pyparsing-3.2.3 requests-toolbelt-1.0.0 roboflow-1.2.1 tqdm-4.67.1\n",
      "loading Roboflow workspace...\n",
      "loading Roboflow project...\n"
     ]
    },
    {
     "name": "stderr",
     "output_type": "stream",
     "text": [
      "Downloading Dataset Version Zip in medical-products-1 to yolov8:: 100%|██████████| 7971/7971 [00:01<00:00, 4158.68it/s]"
     ]
    },
    {
     "name": "stdout",
     "output_type": "stream",
     "text": [
      "\n"
     ]
    },
    {
     "name": "stderr",
     "output_type": "stream",
     "text": [
      "\n",
      "Extracting Dataset Version Zip to medical-products-1 in yolov8:: 100%|██████████| 392/392 [00:00<00:00, 2411.27it/s]\n"
     ]
    }
   ],
   "source": [
    "!pip install roboflow\n",
    "from roboflow import Roboflow\n",
    "rf = Roboflow(api_key=\"eDraTy7oHELDj6QbeQ2L\")\n",
    "project = rf.workspace(\"medical-products\").project(\"medical-products\")\n",
    "version = project.version(1)\n",
    "dataset = version.download(\"yolov8\") "
   ]
  },
  {
   "cell_type": "code",
   "execution_count": 2,
   "id": "7384046c",
   "metadata": {},
   "outputs": [
    {
     "name": "stdout",
     "output_type": "stream",
     "text": [
      "Collecting ultralytics\n",
      "  Downloading ultralytics-8.3.167-py3-none-any.whl (1.0 MB)\n",
      "     ---------------------------------------- 1.0/1.0 MB 1.6 MB/s eta 0:00:00\n",
      "Requirement already satisfied: opencv-python>=4.6.0 in c:\\users\\surap\\onedrive\\desktop\\10acadamy\\ethiopian medical businesses\\myenv\\lib\\site-packages (from ultralytics) (4.12.0.88)\n",
      "Requirement already satisfied: pillow>=7.1.2 in c:\\users\\surap\\onedrive\\desktop\\10acadamy\\ethiopian medical businesses\\myenv\\lib\\site-packages (from ultralytics) (11.3.0)\n",
      "Requirement already satisfied: torchvision>=0.9.0 in c:\\users\\surap\\onedrive\\desktop\\10acadamy\\ethiopian medical businesses\\myenv\\lib\\site-packages (from ultralytics) (0.22.1)\n",
      "Requirement already satisfied: pyyaml>=5.3.1 in c:\\users\\surap\\onedrive\\desktop\\10acadamy\\ethiopian medical businesses\\myenv\\lib\\site-packages (from ultralytics) (6.0.2)\n",
      "Requirement already satisfied: tqdm>=4.64.0 in c:\\users\\surap\\onedrive\\desktop\\10acadamy\\ethiopian medical businesses\\myenv\\lib\\site-packages (from ultralytics) (4.67.1)\n",
      "Requirement already satisfied: pandas>=1.1.4 in c:\\users\\surap\\onedrive\\desktop\\10acadamy\\ethiopian medical businesses\\myenv\\lib\\site-packages (from ultralytics) (2.3.1)\n",
      "Collecting ultralytics-thop>=2.0.0\n",
      "  Downloading ultralytics_thop-2.0.14-py3-none-any.whl (26 kB)\n",
      "Requirement already satisfied: matplotlib>=3.3.0 in c:\\users\\surap\\onedrive\\desktop\\10acadamy\\ethiopian medical businesses\\myenv\\lib\\site-packages (from ultralytics) (3.10.3)\n",
      "Requirement already satisfied: requests>=2.23.0 in c:\\users\\surap\\onedrive\\desktop\\10acadamy\\ethiopian medical businesses\\myenv\\lib\\site-packages (from ultralytics) (2.32.4)\n",
      "Requirement already satisfied: numpy>=1.23.0 in c:\\users\\surap\\onedrive\\desktop\\10acadamy\\ethiopian medical businesses\\myenv\\lib\\site-packages (from ultralytics) (2.1.3)\n",
      "Collecting scipy>=1.4.1\n",
      "  Using cached scipy-1.15.3-cp310-cp310-win_amd64.whl (41.3 MB)\n",
      "Requirement already satisfied: torch>=1.8.0 in c:\\users\\surap\\onedrive\\desktop\\10acadamy\\ethiopian medical businesses\\myenv\\lib\\site-packages (from ultralytics) (2.7.1)\n",
      "Collecting py-cpuinfo\n",
      "  Downloading py_cpuinfo-9.0.0-py3-none-any.whl (22 kB)\n",
      "Requirement already satisfied: psutil in c:\\users\\surap\\onedrive\\desktop\\10acadamy\\ethiopian medical businesses\\myenv\\lib\\site-packages (from ultralytics) (7.0.0)\n",
      "Requirement already satisfied: pyparsing>=2.3.1 in c:\\users\\surap\\onedrive\\desktop\\10acadamy\\ethiopian medical businesses\\myenv\\lib\\site-packages (from matplotlib>=3.3.0->ultralytics) (3.2.3)\n",
      "Requirement already satisfied: contourpy>=1.0.1 in c:\\users\\surap\\onedrive\\desktop\\10acadamy\\ethiopian medical businesses\\myenv\\lib\\site-packages (from matplotlib>=3.3.0->ultralytics) (1.3.2)\n",
      "Requirement already satisfied: python-dateutil>=2.7 in c:\\users\\surap\\onedrive\\desktop\\10acadamy\\ethiopian medical businesses\\myenv\\lib\\site-packages (from matplotlib>=3.3.0->ultralytics) (2.9.0.post0)\n",
      "Requirement already satisfied: cycler>=0.10 in c:\\users\\surap\\onedrive\\desktop\\10acadamy\\ethiopian medical businesses\\myenv\\lib\\site-packages (from matplotlib>=3.3.0->ultralytics) (0.12.1)\n",
      "Requirement already satisfied: kiwisolver>=1.3.1 in c:\\users\\surap\\onedrive\\desktop\\10acadamy\\ethiopian medical businesses\\myenv\\lib\\site-packages (from matplotlib>=3.3.0->ultralytics) (1.4.8)\n",
      "Requirement already satisfied: packaging>=20.0 in c:\\users\\surap\\onedrive\\desktop\\10acadamy\\ethiopian medical businesses\\myenv\\lib\\site-packages (from matplotlib>=3.3.0->ultralytics) (25.0)\n",
      "Requirement already satisfied: fonttools>=4.22.0 in c:\\users\\surap\\onedrive\\desktop\\10acadamy\\ethiopian medical businesses\\myenv\\lib\\site-packages (from matplotlib>=3.3.0->ultralytics) (4.58.5)\n",
      "Requirement already satisfied: tzdata>=2022.7 in c:\\users\\surap\\onedrive\\desktop\\10acadamy\\ethiopian medical businesses\\myenv\\lib\\site-packages (from pandas>=1.1.4->ultralytics) (2025.2)\n",
      "Requirement already satisfied: pytz>=2020.1 in c:\\users\\surap\\onedrive\\desktop\\10acadamy\\ethiopian medical businesses\\myenv\\lib\\site-packages (from pandas>=1.1.4->ultralytics) (2025.2)\n",
      "Requirement already satisfied: urllib3<3,>=1.21.1 in c:\\users\\surap\\onedrive\\desktop\\10acadamy\\ethiopian medical businesses\\myenv\\lib\\site-packages (from requests>=2.23.0->ultralytics) (2.5.0)\n",
      "Requirement already satisfied: charset_normalizer<4,>=2 in c:\\users\\surap\\onedrive\\desktop\\10acadamy\\ethiopian medical businesses\\myenv\\lib\\site-packages (from requests>=2.23.0->ultralytics) (3.4.2)\n",
      "Requirement already satisfied: idna<4,>=2.5 in c:\\users\\surap\\onedrive\\desktop\\10acadamy\\ethiopian medical businesses\\myenv\\lib\\site-packages (from requests>=2.23.0->ultralytics) (3.7)\n",
      "Requirement already satisfied: certifi>=2017.4.17 in c:\\users\\surap\\onedrive\\desktop\\10acadamy\\ethiopian medical businesses\\myenv\\lib\\site-packages (from requests>=2.23.0->ultralytics) (2025.7.14)\n",
      "Requirement already satisfied: jinja2 in c:\\users\\surap\\onedrive\\desktop\\10acadamy\\ethiopian medical businesses\\myenv\\lib\\site-packages (from torch>=1.8.0->ultralytics) (3.1.6)\n",
      "Requirement already satisfied: filelock in c:\\users\\surap\\onedrive\\desktop\\10acadamy\\ethiopian medical businesses\\myenv\\lib\\site-packages (from torch>=1.8.0->ultralytics) (3.18.0)\n",
      "Requirement already satisfied: sympy>=1.13.3 in c:\\users\\surap\\onedrive\\desktop\\10acadamy\\ethiopian medical businesses\\myenv\\lib\\site-packages (from torch>=1.8.0->ultralytics) (1.14.0)\n",
      "Requirement already satisfied: networkx in c:\\users\\surap\\onedrive\\desktop\\10acadamy\\ethiopian medical businesses\\myenv\\lib\\site-packages (from torch>=1.8.0->ultralytics) (3.4.2)\n",
      "Requirement already satisfied: fsspec in c:\\users\\surap\\onedrive\\desktop\\10acadamy\\ethiopian medical businesses\\myenv\\lib\\site-packages (from torch>=1.8.0->ultralytics) (2025.7.0)\n",
      "Requirement already satisfied: typing-extensions>=4.10.0 in c:\\users\\surap\\onedrive\\desktop\\10acadamy\\ethiopian medical businesses\\myenv\\lib\\site-packages (from torch>=1.8.0->ultralytics) (4.14.1)\n",
      "Requirement already satisfied: colorama in c:\\users\\surap\\onedrive\\desktop\\10acadamy\\ethiopian medical businesses\\myenv\\lib\\site-packages (from tqdm>=4.64.0->ultralytics) (0.4.6)\n",
      "Requirement already satisfied: six>=1.5 in c:\\users\\surap\\onedrive\\desktop\\10acadamy\\ethiopian medical businesses\\myenv\\lib\\site-packages (from python-dateutil>=2.7->matplotlib>=3.3.0->ultralytics) (1.17.0)\n",
      "Requirement already satisfied: mpmath<1.4,>=1.1.0 in c:\\users\\surap\\onedrive\\desktop\\10acadamy\\ethiopian medical businesses\\myenv\\lib\\site-packages (from sympy>=1.13.3->torch>=1.8.0->ultralytics) (1.3.0)\n",
      "Requirement already satisfied: MarkupSafe>=2.0 in c:\\users\\surap\\onedrive\\desktop\\10acadamy\\ethiopian medical businesses\\myenv\\lib\\site-packages (from jinja2->torch>=1.8.0->ultralytics) (3.0.2)\n",
      "Installing collected packages: py-cpuinfo, scipy, ultralytics-thop, ultralytics\n",
      "Successfully installed py-cpuinfo-9.0.0 scipy-1.15.3 ultralytics-8.3.167 ultralytics-thop-2.0.14\n"
     ]
    },
    {
     "name": "stderr",
     "output_type": "stream",
     "text": [
      "\n",
      "[notice] A new release of pip available: 22.2.1 -> 25.1.1\n",
      "[notice] To update, run: python.exe -m pip install --upgrade pip\n"
     ]
    },
    {
     "name": "stdout",
     "output_type": "stream",
     "text": [
      "Creating new Ultralytics Settings v0.0.6 file  \n",
      "View Ultralytics Settings with 'yolo settings' or at 'C:\\Users\\surap\\AppData\\Roaming\\Ultralytics\\settings.json'\n",
      "Update Settings with 'yolo settings key=value', i.e. 'yolo settings runs_dir=path/to/dir'. For help see https://docs.ultralytics.com/quickstart/#ultralytics-settings.\n",
      "Downloading https://github.com/ultralytics/assets/releases/download/v8.3.0/yolov8s.pt to 'yolov8s.pt'...\n"
     ]
    },
    {
     "name": "stderr",
     "output_type": "stream",
     "text": [
      "100%|██████████| 21.5M/21.5M [00:03<00:00, 7.31MB/s]\n"
     ]
    }
   ],
   "source": [
    "# Base training command (yolov8s)\n",
    "!pip install ultralytics\n",
    "from ultralytics import YOLO\n",
    "\n",
    "# Load model\n",
    "model = YOLO(\"yolov8s.pt\") "
   ]
  }
 ],
 "metadata": {
  "kernelspec": {
   "display_name": "myenv",
   "language": "python",
   "name": "python3"
  },
  "language_info": {
   "codemirror_mode": {
    "name": "ipython",
    "version": 3
   },
   "file_extension": ".py",
   "mimetype": "text/x-python",
   "name": "python",
   "nbconvert_exporter": "python",
   "pygments_lexer": "ipython3",
   "version": "3.10.6"
  }
 },
 "nbformat": 4,
 "nbformat_minor": 5
}
